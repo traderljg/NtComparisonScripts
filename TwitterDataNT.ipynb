{
 "cells": [
  {
   "cell_type": "markdown",
   "metadata": {},
   "source": [
    "import snscrape.modules.twitter as sntwitter\n",
    "import pandas as pd\n",
    "from datetime import date\n"
   ]
  },
  {
   "cell_type": "markdown",
   "metadata": {},
   "source": [
    "query = \"(from:$BLK) until:2022-07-11 since:2021-07-11\"\n",
    "tweets = []\n",
    "limit = 1000\n",
    "\n",
    "\n",
    "for tweet in sntwitter.TwitterSearchScraper(query).get_items():\n",
    "    \n",
    "    # print(vars(tweet))\n",
    "    # break\n",
    "    if len(tweets) == limit:\n",
    "        break\n",
    "    else:\n",
    "        tweets.append([tweet.date, tweet.id, tweet.content, tweet.user.username])\n",
    "        \n",
    "df = pd.DataFrame(tweets, columns=['Date', 'Tweet Id' , 'Text', 'Username' ])\n",
    "\n",
    "df['Date'] = pd.to_datetime(df['Date']).dt.date\n",
    "\n",
    "\n",
    "#df['Date'] = df['Date'].dt.tz_localize(None)\n",
    "\n",
    "df.to_excel(r'D:\\Lucas\\N Trust\\$BLK.xlsx', index = False)"
   ]
  },
  {
   "cell_type": "code",
   "execution_count": 16,
   "metadata": {},
   "outputs": [
    {
     "name": "stdout",
     "output_type": "stream",
     "text": [
      "         Date             Tweet Id  \\\n",
      "0  2022-07-10  1546228447130812416   \n",
      "1  2022-07-10  1546189698753765381   \n",
      "2  2022-07-08  1545469483703222276   \n",
      "3  2022-07-08  1545435383281831937   \n",
      "4  2022-07-08  1545414634001375234   \n",
      "5  2022-07-08  1545396607763496961   \n",
      "6  2022-07-08  1545373427804037122   \n",
      "7  2022-07-08  1545258533133774848   \n",
      "8  2022-07-08  1545244787464601601   \n",
      "9  2022-07-07  1545105974171934720   \n",
      "\n",
      "                                                Text         Username  \n",
      "0  I'm sure this is a lesson the green fools like...  perfekten_shlag  \n",
      "1  Earnings reports from my selection of quality ...             visu  \n",
      "2  Current #Portfolio\\n\\n #USA markets coming roa...     Vix_Vixerson  \n",
      "3  🎯 $BLK price target update\\n\\n🔴 Target Lowered...    pricetargetio  \n",
      "4  ⏳ Limited Spots Remaining: Our webinar is only...            Aiera  \n",
      "5  @InvestInOnG Agreed. They have told us repeate...   ArtVandelay_II  \n",
      "6  Our post schedule for next week, the official ...   ConsensusGurus  \n",
      "7  @MEXC_Global @BlkWhaleGroup What big benefit t...         D_oBaker  \n",
      "8  @MEXC_Global @BlkWhaleGroup buying $BLK at the...     Harleywinwin  \n",
      "9  @MEXC_Global @BlkWhaleGroup What are the best ...      Rosogolla34  \n"
     ]
    }
   ],
   "source": [
    "print(df.head(10))"
   ]
  },
  {
   "cell_type": "markdown",
   "metadata": {},
   "source": []
  }
 ],
 "metadata": {
  "kernelspec": {
   "display_name": "Python 3",
   "language": "python",
   "name": "python3"
  },
  "language_info": {
   "codemirror_mode": {
    "name": "ipython",
    "version": 3
   },
   "file_extension": ".py",
   "mimetype": "text/x-python",
   "name": "python",
   "nbconvert_exporter": "python",
   "pygments_lexer": "ipython3",
   "version": "3.8.5"
  }
 },
 "nbformat": 4,
 "nbformat_minor": 4
}
