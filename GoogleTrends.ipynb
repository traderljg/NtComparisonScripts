{
 "cells": [
  {
   "cell_type": "code",
   "execution_count": null,
   "metadata": {},
   "outputs": [],
   "source": [
    "from pytrends.request import TrendReq\n",
    "import pandas as pd"
   ]
  },
  {
   "cell_type": "code",
   "execution_count": 6,
   "metadata": {},
   "outputs": [],
   "source": [
    "pt = TrendReq(hl=\"en-US\", tz=360)\n",
    "date_start = '1/1/2021'\n",
    "pytrend = TrendReq()\n",
    "\n",
    "\n",
    "#Search words\n",
    "KEYWORDS=['Northern Trust','BlackRock','Goldman Sachs','BNY Mellon','State Street'] \n",
    "\n",
    "#Get the specific search term code for each company\n",
    "KEYWORDS_CODES=[pytrend.suggestions(keyword=i)[0] for i in KEYWORDS] \n",
    "df_CODES= pd.DataFrame(KEYWORDS_CODES)\n",
    "df_CODES\n",
    "\n",
    "\n",
    "\n",
    "pt.build_payload([df_CODES['mid'].iloc[0],df_CODES['mid'].iloc[1],\n",
    "                  df_CODES['mid'].iloc[2],\n",
    "                  df_CODES['mid'].iloc[3], df_CODES['mid'].iloc[4]], \n",
    "                  timeframe='2022-01-01 2022-07-01')\n",
    "\n",
    "# get the interest over time\n",
    "df = pt.interest_over_time()\n",
    "\n",
    "df = df.drop('isPartial', axis = 1)\n",
    "\n",
    "#Name columns\n",
    "df.columns = ['Northern Trust','BlackRock','Goldman Sachs','BNY Mellon','State Street']\n",
    "\n",
    "#Make first column date column\n",
    "data = pd.date_range(date_start, periods = len(df) , freq ='d')\n",
    "df['Date'] = data\n",
    "first_column = df.pop('Date')\n",
    "df.insert(0, 'Date', first_column)\n",
    "\n",
    "#Remove time from date\n",
    "df['Date'] = pd.to_datetime(df['Date']).dt.date\n",
    "\n",
    "#Export to Excel\n",
    "#df.to_excel(r'D:\\Lucas\\N Trust\\GoogTrends.xlsx', index = False)"
   ]
  },
  {
   "cell_type": "code",
   "execution_count": 7,
   "metadata": {},
   "outputs": [
    {
     "name": "stdout",
     "output_type": "stream",
     "text": [
      "                  Date  Northern Trust  BlackRock  Goldman Sachs  BNY Mellon  \\\n",
      "date                                                                           \n",
      "2022-01-01  2021-01-01               2         36             35           6   \n",
      "2022-01-02  2021-01-02               2         37             36           4   \n",
      "2022-01-03  2021-01-03               5         47             57          10   \n",
      "2022-01-04  2021-01-04               7         51             71          13   \n",
      "2022-01-05  2021-01-05               8         61             67          12   \n",
      "2022-01-06  2021-01-06               5         56             63          16   \n",
      "2022-01-07  2021-01-07               6         54             62           9   \n",
      "2022-01-08  2021-01-08               4         36             48           7   \n",
      "2022-01-09  2021-01-09               2         37             45           5   \n",
      "2022-01-10  2021-01-10               8         54             67          13   \n",
      "\n",
      "            State Street  \n",
      "date                      \n",
      "2022-01-01             5  \n",
      "2022-01-02             4  \n",
      "2022-01-03             8  \n",
      "2022-01-04            12  \n",
      "2022-01-05            11  \n",
      "2022-01-06            10  \n",
      "2022-01-07             9  \n",
      "2022-01-08             6  \n",
      "2022-01-09             5  \n",
      "2022-01-10            12  \n"
     ]
    }
   ],
   "source": [
    "print(df.head(10))"
   ]
  },
  {
   "cell_type": "markdown",
   "metadata": {},
   "source": []
  },
  {
   "cell_type": "code",
   "execution_count": null,
   "metadata": {},
   "outputs": [],
   "source": []
  }
 ],
 "metadata": {
  "kernelspec": {
   "display_name": "Python 3",
   "language": "python",
   "name": "python3"
  },
  "language_info": {
   "codemirror_mode": {
    "name": "ipython",
    "version": 3
   },
   "file_extension": ".py",
   "mimetype": "text/x-python",
   "name": "python",
   "nbconvert_exporter": "python",
   "pygments_lexer": "ipython3",
   "version": "3.8.5"
  }
 },
 "nbformat": 4,
 "nbformat_minor": 4
}
